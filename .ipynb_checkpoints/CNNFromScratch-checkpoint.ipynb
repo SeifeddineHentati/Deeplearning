{
 "cells": [
  {
   "cell_type": "code",
   "execution_count": 4,
   "metadata": {},
   "outputs": [],
   "source": [
    "#we re gonna build convolutional neural network from scratch for...\n",
    "#...image classification\n",
    "import torch\n",
    "import torchvision\n",
    "import torchvision.transforms as transforms"
   ]
  },
  {
   "cell_type": "code",
   "execution_count": 5,
   "metadata": {},
   "outputs": [
    {
     "name": "stdout",
     "output_type": "stream",
     "text": [
      "Downloading https://www.cs.toronto.edu/~kriz/cifar-10-python.tar.gz to ./datasets\\cifar-10-python.tar.gz\n"
     ]
    },
    {
     "data": {
      "application/vnd.jupyter.widget-view+json": {
       "model_id": "15874909917841adb6bd38e9054519ff",
       "version_major": 2,
       "version_minor": 0
      },
      "text/plain": [
       "HBox(children=(HTML(value=''), FloatProgress(value=1.0, bar_style='info', layout=Layout(width='20px'), max=1.0…"
      ]
     },
     "metadata": {},
     "output_type": "display_data"
    },
    {
     "name": "stdout",
     "output_type": "stream",
     "text": [
      "Extracting ./datasets\\cifar-10-python.tar.gz to ./datasets\n"
     ]
    }
   ],
   "source": [
    "#we download our library of images CIFAR10 from ..\n",
    "#...https://www.cs.toronto.edu/~kriz/cifar.html\n",
    "trainset = torchvision.datasets.CIFAR10(root='./datasets',\n",
    "                                       train=True,\n",
    "                                       download=True,\n",
    "                                       transform=transforms.ToTensor())"
   ]
  },
  {
   "cell_type": "code",
   "execution_count": 6,
   "metadata": {},
   "outputs": [
    {
     "data": {
      "text/plain": [
       "Dataset CIFAR10\n",
       "    Number of datapoints: 50000\n",
       "    Root location: ./datasets\n",
       "    Split: Train\n",
       "    StandardTransform\n",
       "Transform: ToTensor()"
      ]
     },
     "execution_count": 6,
     "metadata": {},
     "output_type": "execute_result"
    }
   ],
   "source": [
    "#we check our data should contain 50000 images\n",
    "trainset"
   ]
  },
  {
   "cell_type": "code",
   "execution_count": 8,
   "metadata": {},
   "outputs": [],
   "source": [
    "#In real world problems you need to work with your data in batches so:\n",
    "trainloader = torch.utils.data.DataLoader(trainset,\n",
    "                                         batch_size=8, #default is 1\n",
    "                                         shuffle=True, \n",
    "#common practice shuffle the data so you prevent the NN from picking up patterns out of the data                              \n",
    "                                         num_workers=2)\n",
    "#use two subprocesses for data loading"
   ]
  },
  {
   "cell_type": "code",
   "execution_count": 9,
   "metadata": {},
   "outputs": [
    {
     "name": "stdout",
     "output_type": "stream",
     "text": [
      "Files already downloaded and verified\n"
     ]
    }
   ],
   "source": [
    "testset = torchvision.datasets.CIFAR10(root='./datasets',\n",
    "                                      train=False, # false cause Test you know\n",
    "                                      download=True,\n",
    "                                      transform=transforms.ToTensor())"
   ]
  },
  {
   "cell_type": "code",
   "execution_count": 10,
   "metadata": {},
   "outputs": [
    {
     "data": {
      "text/plain": [
       "Dataset CIFAR10\n",
       "    Number of datapoints: 10000\n",
       "    Root location: ./datasets\n",
       "    Split: Test\n",
       "    StandardTransform\n",
       "Transform: ToTensor()"
      ]
     },
     "execution_count": 10,
     "metadata": {},
     "output_type": "execute_result"
    }
   ],
   "source": [
    "testset"
   ]
  },
  {
   "cell_type": "code",
   "execution_count": 11,
   "metadata": {},
   "outputs": [],
   "source": [
    "testloader = torch.utils.data.DataLoader(testset,\n",
    "                                        batch_size=8,\n",
    "                                        shuffle=False,#no need to shuffle this \n",
    "                                        num_workers=2)"
   ]
  },
  {
   "cell_type": "code",
   "execution_count": 12,
   "metadata": {},
   "outputs": [],
   "source": [
    "#the cifar 10 dataset contains 10 categories of images\n",
    "labels = ('plane','car','bird','cat',\n",
    "          'deer','dog','frog','horse',\n",
    "          'ship','truck')"
   ]
  },
  {
   "cell_type": "code",
   "execution_count": 13,
   "metadata": {},
   "outputs": [
    {
     "name": "stdout",
     "output_type": "stream",
     "text": [
      "\n"
     ]
    }
   ],
   "source": [
    "import matplotlib.pyplot as plt\n",
    "import numpy as np"
   ]
  },
  {
   "cell_type": "code",
   "execution_count": 14,
   "metadata": {},
   "outputs": [],
   "source": [
    "images_batch, labels_batch = iter(trainloader).next()"
   ]
  },
  {
   "cell_type": "code",
   "execution_count": 18,
   "metadata": {},
   "outputs": [
    {
     "data": {
      "text/plain": [
       "(torch.Size([8, 3, 32, 32]), torch.Size([8]))"
      ]
     },
     "execution_count": 18,
     "metadata": {},
     "output_type": "execute_result"
    }
   ],
   "source": [
    "images_batch.shape , labels_batch.shape\n",
    "#8 images / 3channels (rgb) color / 32*32 size"
   ]
  },
  {
   "cell_type": "code",
   "execution_count": 19,
   "metadata": {},
   "outputs": [],
   "source": [
    "img = torchvision.utils.make_grid(images_batch)\n",
    "#lay images side by side 2 pixel abstand"
   ]
  },
  {
   "cell_type": "code",
   "execution_count": 20,
   "metadata": {},
   "outputs": [
    {
     "data": {
      "text/plain": [
       "torch.Size([3, 36, 274])"
      ]
     },
     "execution_count": 20,
     "metadata": {},
     "output_type": "execute_result"
    }
   ],
   "source": [
    "img.shape"
   ]
  },
  {
   "cell_type": "code",
   "execution_count": 21,
   "metadata": {},
   "outputs": [
    {
     "data": {
      "text/plain": [
       "torch.Size([36, 274, 3])"
      ]
     },
     "execution_count": 21,
     "metadata": {},
     "output_type": "execute_result"
    }
   ],
   "source": [
    "np.transpose(img, (1,2,0)).shape\n",
    "#making the number of channels as the third dimension\n",
    "#this transpose is only temporary only needed to plot the images\n",
    "#because the channels needs to be the 3rd dimension"
   ]
  },
  {
   "cell_type": "code",
   "execution_count": 22,
   "metadata": {},
   "outputs": [
    {
     "data": {
      "image/png": "[encoded data removed]",
      "text/plain": [
       "<Figure size 432x288 with 1 Axes>"
      ]
     },
     "metadata": {
      "needs_background": "light"
     },
     "output_type": "display_data"
    }
   ],
   "source": [
    "plt.imshow(np.transpose(img,(1,2,0)))\n",
    "plt.axis('off')\n",
    "plt.show()"
   ]
  },
  {
   "cell_type": "code",
   "execution_count": 23,
   "metadata": {},
   "outputs": [],
   "source": [
    "import torch.nn as nn"
   ]
  },
  {
   "cell_type": "code",
   "execution_count": 24,
   "metadata": {},
   "outputs": [],
   "source": [
    "#now that our data is ready we need to setup our CNN\n",
    "in_size=3\n",
    "hid1_size=16 #number of channels output by the first convolution layer\n",
    "#our first convolutional layer will produce 16 feature map :P \n",
    "hid2_size =32 #second convolutional layer output 32 feature maps :P\n",
    "out_size= len(labels) #number of features to classify\n",
    "k_conv_size = 5 #Convolutional Kernel 5X5"
   ]
  },
  {
   "cell_type": "code",
   "execution_count": 30,
   "metadata": {},
   "outputs": [],
   "source": [
    "class ConvNet(nn.Module):\n",
    "    def __init__(self):\n",
    "        super(ConvNet, self).__init__()\n",
    "        \n",
    "        self.layer1 = nn.Sequential(nn.Conv2d(in_size, hid1_size, k_conv_size),\n",
    "                                   nn.BatchNorm2d(hid1_size),\n",
    "                                   nn.ReLU(),\n",
    "                                   nn.MaxPool2d(kernel_size=2))\n",
    "        \n",
    "        self.layer2 = nn.Sequential(nn.Conv2d(hid1_size, hid2_size,k_conv_size),\n",
    "                                   nn.BatchNorm2d(hid2_size),\n",
    "                                   nn.ReLU(),\n",
    "                                   nn.MaxPool2d(kernel_size=2))\n",
    "        \n",
    "        self.fc = nn.Linear(hid2_size * k_conv_size * k_conv_size, out_size)\n",
    "        \n",
    "    def forward(self, x):\n",
    "        out= self.layer1(x)\n",
    "        out= self.layer2(out)\n",
    "        out = out.reshape(out.size(0),-1) #we need to reshape the output that..\n",
    "        #...each image is represented by 1D vector\n",
    "        out = self.fc(out)\n",
    "        return out"
   ]
  },
  {
   "cell_type": "code",
   "execution_count": 31,
   "metadata": {},
   "outputs": [],
   "source": [
    "#train our model\n",
    "model = ConvNet()"
   ]
  },
  {
   "cell_type": "code",
   "execution_count": 32,
   "metadata": {},
   "outputs": [],
   "source": [
    "learning_rate = 0.001\n",
    "criterion = nn.CrossEntropyLoss() #loss function \n",
    "\n",
    "#use Adam optimizer\n",
    "optimizer = torch.optim.Adam(model.parameters(),\n",
    "                            lr=learning_rate)"
   ]
  },
  {
   "cell_type": "code",
   "execution_count": 33,
   "metadata": {},
   "outputs": [],
   "source": [
    "total_step = len(trainloader)\n",
    "num_epochs = 5"
   ]
  },
  {
   "cell_type": "code",
   "execution_count": 34,
   "metadata": {},
   "outputs": [
    {
     "name": "stdout",
     "output_type": "stream",
     "text": [
      "Epoch [1/5], Step [2000,6250], Loss: 0.5862\n",
      "Epoch [1/5], Step [4000,6250], Loss: 1.3719\n",
      "Epoch [1/5], Step [6000,6250], Loss: 0.6450\n",
      "Epoch [2/5], Step [2000,6250], Loss: 0.6891\n",
      "Epoch [2/5], Step [4000,6250], Loss: 1.0031\n",
      "Epoch [2/5], Step [6000,6250], Loss: 0.7765\n",
      "Epoch [3/5], Step [2000,6250], Loss: 1.1044\n",
      "Epoch [3/5], Step [4000,6250], Loss: 1.4819\n",
      "Epoch [3/5], Step [6000,6250], Loss: 0.8331\n",
      "Epoch [4/5], Step [2000,6250], Loss: 1.0546\n",
      "Epoch [4/5], Step [4000,6250], Loss: 0.9933\n",
      "Epoch [4/5], Step [6000,6250], Loss: 1.5880\n",
      "Epoch [5/5], Step [2000,6250], Loss: 0.5817\n",
      "Epoch [5/5], Step [4000,6250], Loss: 0.3605\n",
      "Epoch [5/5], Step [6000,6250], Loss: 1.8585\n"
     ]
    }
   ],
   "source": [
    "for epoch in range(num_epochs):\n",
    "    for i, (images,labels) in enumerate(trainloader):\n",
    "        outputs = model(images)\n",
    "        loss= criterion(outputs,labels)\n",
    "        \n",
    "        optimizer.zero_grad()\n",
    "        loss.backward()\n",
    "        optimizer.step()\n",
    "        \n",
    "        if (i+1) % 2000 == 0:\n",
    "            print('Epoch [{}/{}], Step [{},{}], Loss: {:.4f}'\n",
    "                 .format(epoch+1,num_epochs,i+1,total_step, loss.item()))"
   ]
  },
  {
   "cell_type": "code",
   "execution_count": 38,
   "metadata": {},
   "outputs": [
    {
     "name": "stdout",
     "output_type": "stream",
     "text": [
      "Accuracy of the model on the 10000 test images: 68.41%\n"
     ]
    }
   ],
   "source": [
    "#set our model to evaluation mode \n",
    "model.eval()\n",
    "with torch.no_grad():\n",
    "    correct=0\n",
    "    total=0\n",
    "    for images ,labels in testloader:\n",
    "        outputs = model(images)\n",
    "        _, predicted = torch.max(outputs.data,1) #the label that has the most probability\n",
    "        total += labels.size(0)\n",
    "        correct += (predicted == labels).sum().item()\n",
    "    \n",
    "    print('Accuracy of the model on the 10000 test images: {}%'\\\n",
    "         .format(100 * correct /total))\n",
    "    "
   ]
  },
  {
   "cell_type": "code",
   "execution_count": null,
   "metadata": {},
   "outputs": [],
   "source": []
  }
 ],
 "metadata": {
  "kernelspec": {
   "display_name": "Python 3",
   "language": "python",
   "name": "python3"
  },
  "language_info": {
   "codemirror_mode": {
    "name": "ipython",
    "version": 3
   },
   "file_extension": ".py",
   "mimetype": "text/x-python",
   "name": "python",
   "nbconvert_exporter": "python",
   "pygments_lexer": "ipython3",
   "version": "3.8.5"
  }
 },
 "nbformat": 4,
 "nbformat_minor": 4
}

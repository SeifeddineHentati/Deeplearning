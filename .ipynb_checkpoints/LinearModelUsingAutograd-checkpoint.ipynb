{
 "cells": [
  {
   "cell_type": "code",
   "execution_count": 3,
   "metadata": {},
   "outputs": [],
   "source": [
    "import numpy as np\n",
    "import matplotlib.pyplot as plt"
   ]
  },
  {
   "cell_type": "code",
   "execution_count": 4,
   "metadata": {},
   "outputs": [],
   "source": [
    "x_train = np.array ([[3.3],[4.4],[5.5],[6.71],[6.93],[4.168],[9.779], [6.182],[7.59],[2.167],[7.042],[10.791],[5.313],[7.997],[3.1]],dtype = np.float32)\n",
    "\n",
    "y_train = np.array ([[1.7],[2.76], [2.09],[3.19], [1.694], [1.573], \n",
    "                     [3.366], [2.596], [2.53], [1.221], [2.827], \n",
    "                    [3.465], [1.65], [2.904], [1.3]],\n",
    "                   dtype = np.float32)"
   ]
  },
  {
   "cell_type": "code",
   "execution_count": 5,
   "metadata": {},
   "outputs": [
    {
     "data": {
      "image/png": "[encoded data removed]",
      "text/plain": [
       "<Figure size 432x288 with 1 Axes>"
      ]
     },
     "metadata": {
      "needs_background": "light"
     },
     "output_type": "display_data"
    }
   ],
   "source": [
    "plt.plot(x_train,y_train, 'ro',label= 'Original data')\n",
    "plt.show()"
   ]
  },
  {
   "cell_type": "code",
   "execution_count": 7,
   "metadata": {},
   "outputs": [],
   "source": [
    "import torch"
   ]
  },
  {
   "cell_type": "code",
   "execution_count": 9,
   "metadata": {},
   "outputs": [
    {
     "name": "stdout",
     "output_type": "stream",
     "text": [
      "requires_grad for X_train:  False\n",
      "requires_grad for Y_train:  False\n"
     ]
    }
   ],
   "source": [
    "X_train = torch.from_numpy(x_train)\n",
    "Y_train = torch.from_numpy(y_train)\n",
    "print('requires_grad for X_train: ',X_train.requires_grad)\n",
    "print('requires_grad for Y_train: ',Y_train.requires_grad)"
   ]
  },
  {
   "cell_type": "code",
   "execution_count": 13,
   "metadata": {},
   "outputs": [],
   "source": [
    "input_size = 1\n",
    "hidden_size = 100 \n",
    "output_size = 1\n",
    "learning_rate = 1e-6"
   ]
  },
  {
   "cell_type": "code",
   "execution_count": 11,
   "metadata": {},
   "outputs": [
    {
     "data": {
      "text/plain": [
       "torch.Size([1, 100])"
      ]
     },
     "execution_count": 11,
     "metadata": {},
     "output_type": "execute_result"
    }
   ],
   "source": [
    "w1 = torch.rand(input_size, hidden_size, requires_grad = True)\n",
    "#requiere grad is true because we need to adjust the weights for our model\n",
    "w1.shape"
   ]
  },
  {
   "cell_type": "code",
   "execution_count": 14,
   "metadata": {},
   "outputs": [
    {
     "data": {
      "text/plain": [
       "torch.Size([100, 1])"
      ]
     },
     "execution_count": 14,
     "metadata": {},
     "output_type": "execute_result"
    }
   ],
   "source": [
    "w2 = torch.rand(hidden_size,output_size, requires_grad =True)\n",
    "w2.shape"
   ]
  },
  {
   "cell_type": "code",
   "execution_count": 16,
   "metadata": {},
   "outputs": [
    {
     "name": "stdout",
     "output_type": "stream",
     "text": [
      "50 2380.0546875\n",
      "100 61.408905029296875\n",
      "150 5.142759323120117\n",
      "200 3.672276258468628\n",
      "250 3.633671522140503\n",
      "300 3.632655620574951\n"
     ]
    }
   ],
   "source": [
    "#300 epoques\n",
    "for iter in range(1,301):\n",
    "    y_pred = X_train.mm(w1).clamp(min=0).mm(w2)\n",
    "    #mm : Matrix multiplication (*)\n",
    "    #clamp: relu funktion negative values are considered 0\n",
    "    loss = (y_pred - Y_train).pow(2).sum()\n",
    "    #loss Mean square error\n",
    "    \n",
    "    if iter % 50 == 0:\n",
    "        print(iter, loss.item())\n",
    "        #print value of loss to see how it converges\n",
    "        \n",
    "    loss.backward()\n",
    "    \n",
    "    with torch.no_grad():\n",
    "        #manually update our model weights : we dont need gradients to be trned on\n",
    "        w1 -= learning_rate * w1.grad\n",
    "        w2 -= learning_rate * w2.grad\n",
    "        w1.grad.zero_()\n",
    "        w2.grad.zero_()"
   ]
  },
  {
   "cell_type": "code",
   "execution_count": 17,
   "metadata": {},
   "outputs": [
    {
     "name": "stdout",
     "output_type": "stream",
     "text": [
      "w1:  tensor([[ 5.0974e-01,  4.3004e-01, -5.4658e-06,  3.6253e-01,  7.6310e-01,\n",
      "         -1.2026e-03, -6.4967e-04,  5.8864e-01, -7.2580e-04,  8.9452e-01,\n",
      "          8.5360e-01,  7.4236e-02,  5.3542e-01,  1.0414e+00, -1.0008e-03,\n",
      "          5.5622e-01,  6.9090e-01,  5.8190e-01, -3.5123e-03,  2.3083e-01,\n",
      "         -1.9396e-03,  8.7309e-01,  3.9116e-01, -8.0403e-05,  6.5718e-02,\n",
      "          4.2484e-01, -8.3237e-04,  4.4628e-01,  2.3972e-01,  1.7279e-01,\n",
      "          2.4462e-01,  3.0183e-01,  1.4737e-01,  9.4966e-01,  5.4480e-01,\n",
      "          9.0675e-01,  5.5218e-01, -2.0628e-03, -4.3473e-03, -6.0850e-05,\n",
      "          4.8285e-01,  3.5242e-01,  1.0915e+00, -2.3804e-03, -2.6962e-03,\n",
      "          7.7910e-01, -8.9202e-03,  1.4297e-01, -8.2368e-04, -2.9218e-03,\n",
      "          1.1455e-01,  5.8888e-01,  4.0875e-01,  6.5868e-01,  6.3860e-01,\n",
      "          3.9525e-02, -1.7081e-03, -5.7075e-05, -9.9028e-04,  1.6533e-01,\n",
      "         -1.3307e-02,  2.0876e-01,  1.0748e+00,  5.2293e-01, -7.1205e-03,\n",
      "         -9.1289e-03,  8.0304e-01,  7.6379e-01,  1.4792e-01,  1.1460e-01,\n",
      "         -5.8164e-03,  1.5718e-01,  3.0215e-01,  1.0922e-01,  5.6055e-01,\n",
      "          6.2196e-01,  3.1894e-01,  6.5661e-01, -4.3017e-03,  5.9805e-01,\n",
      "         -1.1426e-02,  2.1068e-01, -7.8928e-03,  5.2133e-01, -4.9849e-03,\n",
      "         -5.0469e-03,  7.5569e-02,  3.9989e-01,  3.4614e-01,  2.0981e-01,\n",
      "         -6.4105e-03,  2.9981e-01,  4.5915e-01,  1.7391e-01, -2.0285e-03,\n",
      "          3.1281e-01, -2.6608e-03,  4.5273e-01,  4.4261e-01,  5.2163e-01]],\n",
      "       requires_grad=True)\n",
      "w2:  tensor([[-0.0912],\n",
      "        [ 0.2862],\n",
      "        [ 0.2474],\n",
      "        [ 0.3862],\n",
      "        [ 0.1847],\n",
      "        [ 0.8880],\n",
      "        [ 0.6302],\n",
      "        [-0.1752],\n",
      "        [ 0.6611],\n",
      "        [-0.2300],\n",
      "        [-0.3818],\n",
      "        [ 0.0426],\n",
      "        [-0.1010],\n",
      "        [-0.4484],\n",
      "        [ 0.4367],\n",
      "        [-0.1684],\n",
      "        [ 0.0014],\n",
      "        [ 0.3104],\n",
      "        [ 0.9432],\n",
      "        [ 0.3677],\n",
      "        [ 0.5238],\n",
      "        [-0.0781],\n",
      "        [-0.1084],\n",
      "        [ 0.3253],\n",
      "        [ 0.5313],\n",
      "        [ 0.0547],\n",
      "        [ 0.6367],\n",
      "        [ 0.5019],\n",
      "        [ 0.7400],\n",
      "        [ 0.1549],\n",
      "        [ 0.3589],\n",
      "        [ 0.5956],\n",
      "        [ 0.4585],\n",
      "        [-0.4410],\n",
      "        [ 0.0764],\n",
      "        [-0.4118],\n",
      "        [-0.1517],\n",
      "        [ 0.4217],\n",
      "        [ 0.9038],\n",
      "        [ 0.6547],\n",
      "        [-0.1011],\n",
      "        [ 0.5354],\n",
      "        [-0.4803],\n",
      "        [ 0.7846],\n",
      "        [ 0.7071],\n",
      "        [-0.2041],\n",
      "        [ 0.7275],\n",
      "        [ 0.2663],\n",
      "        [ 0.5942],\n",
      "        [ 0.2431],\n",
      "        [-0.0218],\n",
      "        [ 0.5048],\n",
      "        [ 0.0348],\n",
      "        [-0.1144],\n",
      "        [ 0.1798],\n",
      "        [ 0.8563],\n",
      "        [ 0.5645],\n",
      "        [ 0.3218],\n",
      "        [ 0.8458],\n",
      "        [ 0.6903],\n",
      "        [ 0.9526],\n",
      "        [ 0.0324],\n",
      "        [-0.4769],\n",
      "        [ 0.2673],\n",
      "        [ 0.7148],\n",
      "        [ 0.9732],\n",
      "        [-0.0532],\n",
      "        [-0.1923],\n",
      "        [ 0.2938],\n",
      "        [ 0.0631],\n",
      "        [ 0.9023],\n",
      "        [ 0.1886],\n",
      "        [ 0.4744],\n",
      "        [ 0.1369],\n",
      "        [ 0.3589],\n",
      "        [-0.2271],\n",
      "        [ 0.6785],\n",
      "        [ 0.0638],\n",
      "        [ 0.9276],\n",
      "        [-0.0408],\n",
      "        [ 0.7107],\n",
      "        [ 0.7344],\n",
      "        [ 0.4531],\n",
      "        [ 0.6267],\n",
      "        [ 0.8661],\n",
      "        [ 0.6453],\n",
      "        [ 0.3494],\n",
      "        [ 0.3290],\n",
      "        [ 0.7130],\n",
      "        [ 0.3896],\n",
      "        [ 0.4735],\n",
      "        [ 0.1168],\n",
      "        [-0.2148],\n",
      "        [ 0.4106],\n",
      "        [ 0.5302],\n",
      "        [ 0.3319],\n",
      "        [ 0.3531],\n",
      "        [ 0.1775],\n",
      "        [ 0.0516],\n",
      "        [-0.0717]], requires_grad=True)\n"
     ]
    }
   ],
   "source": [
    "print('w1: ',w1)\n",
    "print('w2: ',w2)"
   ]
  },
  {
   "cell_type": "code",
   "execution_count": 18,
   "metadata": {},
   "outputs": [
    {
     "data": {
      "text/plain": [
       "tensor([[ 3.3000],\n",
       "        [ 4.4000],\n",
       "        [ 5.5000],\n",
       "        [ 6.7100],\n",
       "        [ 6.9300],\n",
       "        [ 4.1680],\n",
       "        [ 9.7790],\n",
       "        [ 6.1820],\n",
       "        [ 7.5900],\n",
       "        [ 2.1670],\n",
       "        [ 7.0420],\n",
       "        [10.7910],\n",
       "        [ 5.3130],\n",
       "        [ 7.9970],\n",
       "        [ 3.1000]])"
      ]
     },
     "execution_count": 18,
     "metadata": {},
     "output_type": "execute_result"
    }
   ],
   "source": [
    "x_train_tensor = torch.from_numpy(x_train)\n",
    "x_train_tensor"
   ]
  },
  {
   "cell_type": "code",
   "execution_count": 19,
   "metadata": {},
   "outputs": [
    {
     "data": {
      "text/plain": [
       "tensor([[1.2121],\n",
       "        [1.6162],\n",
       "        [2.0202],\n",
       "        [2.4647],\n",
       "        [2.5455],\n",
       "        [1.5310],\n",
       "        [3.5920],\n",
       "        [2.2708],\n",
       "        [2.7879],\n",
       "        [0.7960],\n",
       "        [2.5866],\n",
       "        [3.9637],\n",
       "        [1.9516],\n",
       "        [2.9374],\n",
       "        [1.1387]], grad_fn=<MmBackward>)"
      ]
     },
     "execution_count": 19,
     "metadata": {},
     "output_type": "execute_result"
    }
   ],
   "source": [
    "predicted_in_tensor = x_train_tensor.mm(w1).clamp(min=0).mm(w2)\n",
    "predicted_in_tensor"
   ]
  },
  {
   "cell_type": "code",
   "execution_count": 20,
   "metadata": {},
   "outputs": [
    {
     "data": {
      "text/plain": [
       "array([[1.2121456],\n",
       "       [1.6161941],\n",
       "       [2.020243 ],\n",
       "       [2.464696 ],\n",
       "       [2.5455074],\n",
       "       [1.5309765],\n",
       "       [3.5919917],\n",
       "       [2.270753 ],\n",
       "       [2.7879357],\n",
       "       [0.795976 ],\n",
       "       [2.5866446],\n",
       "       [3.9637182],\n",
       "       [1.9515543],\n",
       "       [2.9374344],\n",
       "       [1.1386821]], dtype=float32)"
      ]
     },
     "execution_count": 20,
     "metadata": {},
     "output_type": "execute_result"
    }
   ],
   "source": [
    "predicted = predicted_in_tensor.detach().numpy()\n",
    "predicted"
   ]
  },
  {
   "cell_type": "code",
   "execution_count": 22,
   "metadata": {},
   "outputs": [
    {
     "data": {
      "image/png": "[encoded data removed]",
      "text/plain": [
       "<Figure size 432x288 with 1 Axes>"
      ]
     },
     "metadata": {
      "needs_background": "light"
     },
     "output_type": "display_data"
    }
   ],
   "source": [
    "plt.plot(x_train,y_train,'ro',label='Original data')\n",
    "plt.plot(x_train, predicted, label= 'Fitted line')\n",
    "\n",
    "plt.legend()\n",
    "plt.show()"
   ]
  },
  {
   "cell_type": "code",
   "execution_count": null,
   "metadata": {},
   "outputs": [],
   "source": []
  }
 ],
 "metadata": {
  "kernelspec": {
   "display_name": "Python 3",
   "language": "python",
   "name": "python3"
  },
  "language_info": {
   "codemirror_mode": {
    "name": "ipython",
    "version": 3
   },
   "file_extension": ".py",
   "mimetype": "text/x-python",
   "name": "python",
   "nbconvert_exporter": "python",
   "pygments_lexer": "ipython3",
   "version": "3.8.5"
  }
 },
 "nbformat": 4,
 "nbformat_minor": 4
}

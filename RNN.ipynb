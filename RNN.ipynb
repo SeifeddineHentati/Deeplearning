{
 "cells": [
  {
   "cell_type": "code",
   "execution_count": 20,
   "metadata": {},
   "outputs": [],
   "source": [
    "import pandas as pd\n",
    "import random\n",
    "from sklearn.utils import shuffle\n"
   ]
  },
  {
   "cell_type": "code",
   "execution_count": 26,
   "metadata": {},
   "outputs": [
    {
     "data": {
      "text/html": [
       "<div>\n",
       "<style scoped>\n",
       "    .dataframe tbody tr th:only-of-type {\n",
       "        vertical-align: middle;\n",
       "    }\n",
       "\n",
       "    .dataframe tbody tr th {\n",
       "        vertical-align: top;\n",
       "    }\n",
       "\n",
       "    .dataframe thead th {\n",
       "        text-align: right;\n",
       "    }\n",
       "</style>\n",
       "<table border=\"1\" class=\"dataframe\">\n",
       "  <thead>\n",
       "    <tr style=\"text-align: right;\">\n",
       "      <th></th>\n",
       "      <th>Name</th>\n",
       "      <th>Gender</th>\n",
       "    </tr>\n",
       "  </thead>\n",
       "  <tbody>\n",
       "    <tr>\n",
       "      <th>0</th>\n",
       "      <td>Peyton</td>\n",
       "      <td>Male</td>\n",
       "    </tr>\n",
       "    <tr>\n",
       "      <th>1</th>\n",
       "      <td>Kippy</td>\n",
       "      <td>Female</td>\n",
       "    </tr>\n",
       "    <tr>\n",
       "      <th>2</th>\n",
       "      <td>Zeb</td>\n",
       "      <td>Male</td>\n",
       "    </tr>\n",
       "    <tr>\n",
       "      <th>3</th>\n",
       "      <td>Tiertza</td>\n",
       "      <td>Female</td>\n",
       "    </tr>\n",
       "    <tr>\n",
       "      <th>4</th>\n",
       "      <td>Eilis</td>\n",
       "      <td>Female</td>\n",
       "    </tr>\n",
       "  </tbody>\n",
       "</table>\n",
       "</div>"
      ],
      "text/plain": [
       "      Name  Gender\n",
       "0   Peyton    Male\n",
       "1    Kippy  Female\n",
       "2      Zeb    Male\n",
       "3  Tiertza  Female\n",
       "4    Eilis  Female"
      ]
     },
     "execution_count": 26,
     "metadata": {},
     "output_type": "execute_result"
    }
   ],
   "source": [
    "#I needed some data processing\n",
    "female_names= list()\n",
    "male_names = list()\n",
    "\n",
    "with open('datasets/names/female.txt') as f:\n",
    "    female_names = f.readlines()\n",
    "    female_names = [x.strip() for x in female_names] \n",
    "    \n",
    "with open('datasets/names/male.txt') as m:\n",
    "    male_names = m.readlines()\n",
    "    male_names = [x.strip() for x in male_names] \n",
    "\n",
    "female_tuples = list()\n",
    "male_tuples = list()\n",
    "for i in female_names:\n",
    "    female_tuples.append((i,'Female'))\n",
    "\n",
    "for m in male_names:\n",
    "    male_tuples.append((m,'Male'))\n",
    "\n",
    "raw_data = female_tuples+male_tuples\n",
    "names_data = pd.DataFrame(raw_data, columns =['Name', 'Gender']) \n",
    "names_data = shuffle(df)\n",
    "names_data.reset_index(inplace=True, drop=True) \n",
    "names_data.head()\n"
   ]
  },
  {
   "cell_type": "code",
   "execution_count": 27,
   "metadata": {},
   "outputs": [
    {
     "data": {
      "text/plain": [
       "7944"
      ]
     },
     "execution_count": 27,
     "metadata": {},
     "output_type": "execute_result"
    }
   ],
   "source": [
    "len(names_data)"
   ]
  },
  {
   "cell_type": "code",
   "execution_count": 28,
   "metadata": {},
   "outputs": [
    {
     "data": {
      "text/plain": [
       "7578"
      ]
     },
     "execution_count": 28,
     "metadata": {},
     "output_type": "execute_result"
    }
   ],
   "source": [
    "len(names_data['Name'].unique())"
   ]
  },
  {
   "cell_type": "code",
   "execution_count": 30,
   "metadata": {},
   "outputs": [],
   "source": [
    "#clean data (eliminate duplicates)\n",
    "#and choose randomly a gender for a name that s both for female and male\n",
    "#example Farah can be female or male we choose randomly its gender association\n",
    "\n",
    "names_data = names_data.drop_duplicates(subset=['Name'],\n",
    "                                       keep=random.choice(['first','last']))"
   ]
  },
  {
   "cell_type": "code",
   "execution_count": 31,
   "metadata": {},
   "outputs": [
    {
     "data": {
      "text/plain": [
       "7578"
      ]
     },
     "execution_count": 31,
     "metadata": {},
     "output_type": "execute_result"
    }
   ],
   "source": [
    "len(names_data)"
   ]
  },
  {
   "cell_type": "code",
   "execution_count": 32,
   "metadata": {},
   "outputs": [
    {
     "data": {
      "text/html": [
       "<div>\n",
       "<style scoped>\n",
       "    .dataframe tbody tr th:only-of-type {\n",
       "        vertical-align: middle;\n",
       "    }\n",
       "\n",
       "    .dataframe tbody tr th {\n",
       "        vertical-align: top;\n",
       "    }\n",
       "\n",
       "    .dataframe thead th {\n",
       "        text-align: right;\n",
       "    }\n",
       "</style>\n",
       "<table border=\"1\" class=\"dataframe\">\n",
       "  <thead>\n",
       "    <tr style=\"text-align: right;\">\n",
       "      <th></th>\n",
       "      <th>Name</th>\n",
       "      <th>Gender</th>\n",
       "    </tr>\n",
       "  </thead>\n",
       "  <tbody>\n",
       "    <tr>\n",
       "      <th>0</th>\n",
       "      <td>Peyton</td>\n",
       "      <td>Male</td>\n",
       "    </tr>\n",
       "    <tr>\n",
       "      <th>1</th>\n",
       "      <td>Kippy</td>\n",
       "      <td>Female</td>\n",
       "    </tr>\n",
       "    <tr>\n",
       "      <th>2</th>\n",
       "      <td>Zeb</td>\n",
       "      <td>Male</td>\n",
       "    </tr>\n",
       "    <tr>\n",
       "      <th>3</th>\n",
       "      <td>Tiertza</td>\n",
       "      <td>Female</td>\n",
       "    </tr>\n",
       "    <tr>\n",
       "      <th>4</th>\n",
       "      <td>Eilis</td>\n",
       "      <td>Female</td>\n",
       "    </tr>\n",
       "  </tbody>\n",
       "</table>\n",
       "</div>"
      ],
      "text/plain": [
       "      Name  Gender\n",
       "0   Peyton    Male\n",
       "1    Kippy  Female\n",
       "2      Zeb    Male\n",
       "3  Tiertza  Female\n",
       "4    Eilis  Female"
      ]
     },
     "execution_count": 32,
     "metadata": {},
     "output_type": "execute_result"
    }
   ],
   "source": [
    "names_data.head()"
   ]
  },
  {
   "cell_type": "code",
   "execution_count": 33,
   "metadata": {},
   "outputs": [],
   "source": [
    "from sklearn import preprocessing"
   ]
  },
  {
   "cell_type": "code",
   "execution_count": 34,
   "metadata": {},
   "outputs": [
    {
     "data": {
      "text/html": [
       "<div>\n",
       "<style scoped>\n",
       "    .dataframe tbody tr th:only-of-type {\n",
       "        vertical-align: middle;\n",
       "    }\n",
       "\n",
       "    .dataframe tbody tr th {\n",
       "        vertical-align: top;\n",
       "    }\n",
       "\n",
       "    .dataframe thead th {\n",
       "        text-align: right;\n",
       "    }\n",
       "</style>\n",
       "<table border=\"1\" class=\"dataframe\">\n",
       "  <thead>\n",
       "    <tr style=\"text-align: right;\">\n",
       "      <th></th>\n",
       "      <th>Name</th>\n",
       "      <th>Gender</th>\n",
       "    </tr>\n",
       "  </thead>\n",
       "  <tbody>\n",
       "    <tr>\n",
       "      <th>0</th>\n",
       "      <td>Peyton</td>\n",
       "      <td>1</td>\n",
       "    </tr>\n",
       "    <tr>\n",
       "      <th>1</th>\n",
       "      <td>Kippy</td>\n",
       "      <td>0</td>\n",
       "    </tr>\n",
       "    <tr>\n",
       "      <th>2</th>\n",
       "      <td>Zeb</td>\n",
       "      <td>1</td>\n",
       "    </tr>\n",
       "    <tr>\n",
       "      <th>3</th>\n",
       "      <td>Tiertza</td>\n",
       "      <td>0</td>\n",
       "    </tr>\n",
       "    <tr>\n",
       "      <th>4</th>\n",
       "      <td>Eilis</td>\n",
       "      <td>0</td>\n",
       "    </tr>\n",
       "  </tbody>\n",
       "</table>\n",
       "</div>"
      ],
      "text/plain": [
       "      Name  Gender\n",
       "0   Peyton       1\n",
       "1    Kippy       0\n",
       "2      Zeb       1\n",
       "3  Tiertza       0\n",
       "4    Eilis       0"
      ]
     },
     "execution_count": 34,
     "metadata": {},
     "output_type": "execute_result"
    }
   ],
   "source": [
    "le = preprocessing.LabelEncoder()\n",
    "names_data['Gender'] = le.fit_transform(names_data['Gender'])\n",
    "names_data.head()"
   ]
  },
  {
   "cell_type": "code",
   "execution_count": 49,
   "metadata": {},
   "outputs": [],
   "source": [
    "genders = ['Female','Male']"
   ]
  },
  {
   "cell_type": "code",
   "execution_count": 50,
   "metadata": {},
   "outputs": [
    {
     "data": {
      "text/plain": [
       "\"abcdefghijklmnopqrstuvwxyzABCDEFGHIJKLMNOPQRSTUVWXYZ.,;'\""
      ]
     },
     "execution_count": 50,
     "metadata": {},
     "output_type": "execute_result"
    }
   ],
   "source": [
    "import string\n",
    "all_letters = string.ascii_letters+ \".,;'\"\n",
    "all_letters"
   ]
  },
  {
   "cell_type": "code",
   "execution_count": 51,
   "metadata": {},
   "outputs": [
    {
     "data": {
      "text/plain": [
       "56"
      ]
     },
     "execution_count": 51,
     "metadata": {},
     "output_type": "execute_result"
    }
   ],
   "source": [
    "n_letters = len(all_letters)\n",
    "n_letters"
   ]
  },
  {
   "cell_type": "code",
   "execution_count": 52,
   "metadata": {},
   "outputs": [],
   "source": [
    "#one hot encoding\n",
    "import torch\n",
    "\n",
    "def name_to_tensor(name):\n",
    "    name_in_tensor = torch.zeros(len(name),1,n_letters)\n",
    "    for i,letter in enumerate(name):\n",
    "        name_in_tensor[i][0][all_letters.find(letter)]=1\n",
    "    \n",
    "    return name_in_tensor"
   ]
  },
  {
   "cell_type": "code",
   "execution_count": 71,
   "metadata": {},
   "outputs": [
    {
     "data": {
      "text/plain": [
       "tensor([[[0., 0., 0., 0., 0., 0., 0., 0., 0., 0., 0., 0., 0., 0., 0., 0., 0.,\n",
       "          0., 1., 0., 0., 0., 0., 0., 0., 0., 0., 0., 0., 0., 0., 0., 0., 0.,\n",
       "          0., 0., 0., 0., 0., 0., 0., 0., 0., 0., 0., 0., 0., 0., 0., 0., 0.,\n",
       "          0., 0., 0., 0., 0.]]])"
      ]
     },
     "execution_count": 71,
     "metadata": {},
     "output_type": "execute_result"
    }
   ],
   "source": [
    "name_to_tensor('s')"
   ]
  },
  {
   "cell_type": "code",
   "execution_count": 72,
   "metadata": {},
   "outputs": [
    {
     "data": {
      "text/plain": [
       "tensor([[[0., 0., 0., 0., 0., 0., 0., 0., 0., 0., 0., 0., 0., 0., 0., 0., 0.,\n",
       "          0., 1., 0., 0., 0., 0., 0., 0., 0., 0., 0., 0., 0., 0., 0., 0., 0.,\n",
       "          0., 0., 0., 0., 0., 0., 0., 0., 0., 0., 0., 0., 0., 0., 0., 0., 0.,\n",
       "          0., 0., 0., 0., 0.]],\n",
       "\n",
       "        [[0., 0., 0., 0., 1., 0., 0., 0., 0., 0., 0., 0., 0., 0., 0., 0., 0.,\n",
       "          0., 0., 0., 0., 0., 0., 0., 0., 0., 0., 0., 0., 0., 0., 0., 0., 0.,\n",
       "          0., 0., 0., 0., 0., 0., 0., 0., 0., 0., 0., 0., 0., 0., 0., 0., 0.,\n",
       "          0., 0., 0., 0., 0.]],\n",
       "\n",
       "        [[0., 0., 0., 0., 0., 0., 0., 0., 1., 0., 0., 0., 0., 0., 0., 0., 0.,\n",
       "          0., 0., 0., 0., 0., 0., 0., 0., 0., 0., 0., 0., 0., 0., 0., 0., 0.,\n",
       "          0., 0., 0., 0., 0., 0., 0., 0., 0., 0., 0., 0., 0., 0., 0., 0., 0.,\n",
       "          0., 0., 0., 0., 0.]],\n",
       "\n",
       "        [[0., 0., 0., 0., 0., 1., 0., 0., 0., 0., 0., 0., 0., 0., 0., 0., 0.,\n",
       "          0., 0., 0., 0., 0., 0., 0., 0., 0., 0., 0., 0., 0., 0., 0., 0., 0.,\n",
       "          0., 0., 0., 0., 0., 0., 0., 0., 0., 0., 0., 0., 0., 0., 0., 0., 0.,\n",
       "          0., 0., 0., 0., 0.]]])"
      ]
     },
     "execution_count": 72,
     "metadata": {},
     "output_type": "execute_result"
    }
   ],
   "source": [
    "name_to_tensor('seif')"
   ]
  },
  {
   "cell_type": "code",
   "execution_count": 73,
   "metadata": {},
   "outputs": [],
   "source": [
    "#building the RNN\n",
    "import torch.nn as nn\n",
    "\n",
    "class RNN(nn.Module):\n",
    "    def __init__(self, input_size,hidden_size,output_size):\n",
    "        super(RNN,self).__init__()\n",
    "        \n",
    "        self.hidden_size=hidden_size\n",
    "        \n",
    "        self.i2h = nn.Linear(input_size+hidden_size,hidden_size)\n",
    "        self.i2o =nn.Linear(input_size+hidden_size,output_size)\n",
    "        self.softmax = nn.LogSoftmax(dim=1)\n",
    "    \n",
    "    def forward(self, input, hidden):\n",
    "        combined = torch.cat((input,hidden),1)\n",
    "        hidden = self.i2h(combined)\n",
    "        output = self.i2o(combined)\n",
    "        output = self.softmax(output)\n",
    "        return output,hidden\n",
    "    \n",
    "    def initHidden(self):\n",
    "        return torch.zeros(1,self.hidden_size) #use to initialize hidden state"
   ]
  },
  {
   "cell_type": "code",
   "execution_count": 74,
   "metadata": {},
   "outputs": [],
   "source": [
    "#initialization\n",
    "n_hidden = 128\n",
    "n_genders= len(genders)\n",
    "\n",
    "rnn = RNN(n_letters,n_hidden,output_size= n_genders)"
   ]
  },
  {
   "cell_type": "code",
   "execution_count": 75,
   "metadata": {},
   "outputs": [],
   "source": [
    "iterations = 100000\n",
    "\n",
    "criterion = nn.NLLLoss()\n",
    "\n",
    "learning_rate = 0.005"
   ]
  },
  {
   "cell_type": "code",
   "execution_count": 76,
   "metadata": {},
   "outputs": [],
   "source": [
    "def output_to_gender(output):\n",
    "    \n",
    "    top_n,top_index = output.topk(1)\n",
    "    pred_i = top_index[0].item()\n",
    "    pred = genders[pred_i]\n",
    "    return pred"
   ]
  },
  {
   "cell_type": "code",
   "execution_count": 77,
   "metadata": {},
   "outputs": [
    {
     "name": "stdout",
     "output_type": "stream",
     "text": [
      "iters- 2000 2% (0.19884511828422546) Name - Nerta Gender - Female ✓\n",
      "iters- 4000 4% (0.1525212973356247) Name - Tedra Gender - Female ✓\n",
      "iters- 6000 6% (0.10378465056419373) Name - Rebeca Gender - Female ✓\n",
      "iters- 8000 8% (0.7178431153297424) Name - Dynah Gender - Male X {Female}\n",
      "iters- 10000 10% (0.053023405373096466) Name - Arlana Gender - Female ✓\n",
      "iters- 12000 12% (0.0400589182972908) Name - Alberta Gender - Female ✓\n",
      "iters- 14000 14% (1.0757181644439697) Name - Rianon Gender - Male X {Female}\n",
      "iters- 16000 16% (0.43146172165870667) Name - Olympie Gender - Female ✓\n",
      "iters- 18000 18% (0.017173511907458305) Name - Carma Gender - Female ✓\n",
      "iters- 20000 20% (0.4761023223400116) Name - Alleen Gender - Female ✓\n",
      "iters- 22000 22% (0.21133175492286682) Name - Shaylyn Gender - Female ✓\n",
      "iters- 24000 24% (0.1772412210702896) Name - Tremain Gender - Male ✓\n",
      "iters- 26000 26% (1.2395676374435425) Name - Scottie Gender - Female X {Male}\n",
      "iters- 28000 28% (0.021834347397089005) Name - Lorianne Gender - Female ✓\n",
      "iters- 30000 30% (1.3882421255111694) Name - Doris Gender - Male X {Female}\n",
      "iters- 32000 32% (0.03194219991564751) Name - Danni Gender - Female ✓\n",
      "iters- 34000 34% (0.7449378967285156) Name - Gail Gender - Male X {Female}\n",
      "iters- 36000 36% (0.550498366355896) Name - Everett Gender - Male ✓\n",
      "iters- 38000 38% (0.22737738490104675) Name - Aphrodite Gender - Female ✓\n",
      "iters- 40000 40% (0.11941026896238327) Name - Isador Gender - Male ✓\n",
      "iters- 42000 42% (0.15662451088428497) Name - Kissiah Gender - Female ✓\n",
      "iters- 44000 44% (0.4713670015335083) Name - Barbey Gender - Female ✓\n",
      "iters- 46000 46% (1.0133808851242065) Name - Gabe Gender - Female X {Male}\n",
      "iters- 48000 48% (0.7532111406326294) Name - Gladys Gender - Male X {Female}\n",
      "iters- 50000 50% (0.06182272732257843) Name - Gerrilee Gender - Female ✓\n",
      "iters- 52000 52% (0.6817333102226257) Name - Roby Gender - Female ✓\n",
      "iters- 54000 54% (0.3715445101261139) Name - Timothee Gender - Male ✓\n",
      "iters- 56000 56% (0.6765091419219971) Name - Randell Gender - Male ✓\n",
      "iters- 58000 57% (0.011751355603337288) Name - Vena Gender - Female ✓\n",
      "iters- 60000 60% (0.1227286234498024) Name - Dione Gender - Female ✓\n",
      "iters- 62000 62% (0.11549361050128937) Name - Rafael Gender - Male ✓\n",
      "iters- 64000 64% (2.7850875854492188) Name - Baillie Gender - Female X {Male}\n",
      "iters- 66000 66% (0.8289019465446472) Name - Aggy Gender - Male X {Female}\n",
      "iters- 68000 68% (0.6828767657279968) Name - Daveen Gender - Female ✓\n",
      "iters- 70000 70% (0.008725256659090519) Name - Raina Gender - Female ✓\n",
      "iters- 72000 72% (0.020320450887084007) Name - Leshia Gender - Female ✓\n",
      "iters- 74000 74% (0.24994949996471405) Name - Britaney Gender - Female ✓\n",
      "iters- 76000 76% (0.022956907749176025) Name - Silvia Gender - Female ✓\n",
      "iters- 78000 78% (0.33109959959983826) Name - Dotty Gender - Female ✓\n",
      "iters- 80000 80% (0.0815136581659317) Name - Jillane Gender - Female ✓\n",
      "iters- 82000 82% (0.23291374742984772) Name - Clem Gender - Male ✓\n",
      "iters- 84000 84% (0.6858826279640198) Name - Ashly Gender - Female ✓\n",
      "iters- 86000 86% (1.9059224128723145) Name - Prudence Gender - Male X {Female}\n",
      "iters- 88000 88% (0.2853684425354004) Name - Reynold Gender - Male ✓\n",
      "iters- 90000 90% (0.0685778558254242) Name - Aurora Gender - Female ✓\n",
      "iters- 92000 92% (0.03151651844382286) Name - Tiertza Gender - Female ✓\n",
      "iters- 94000 94% (0.26524320244789124) Name - Ashely Gender - Female ✓\n",
      "iters- 96000 96% (0.057039570063352585) Name - Vanni Gender - Female ✓\n",
      "iters- 98000 98% (0.01900697872042656) Name - Bathsheba Gender - Female ✓\n",
      "iters- 100000 100% (0.35503506660461426) Name - Carl Gender - Male ✓\n"
     ]
    }
   ],
   "source": [
    "#train\n",
    "\n",
    "for iteration in range (1, iterations+1):\n",
    "    \n",
    "    i = random.randint(0,len(names_data)-1)\n",
    "    \n",
    "    name = names_data.iloc[i][0]\n",
    "    name_in_tensor = name_to_tensor(name) #encode name one hot form\n",
    "    \n",
    "    gender = names_data.iloc[i][1]\n",
    "    gender_in_tensor = torch.LongTensor([gender]) #setup the gender associated \n",
    "    #...with the name as a tensor\n",
    "    \n",
    "    hidden = rnn.initHidden() #initialize first hidden layer\n",
    "    rnn.zero_grad() #zero the gradients\n",
    "    \n",
    "    for i in range(name_in_tensor.size()[0]):\n",
    "        output,hidden = rnn(name_in_tensor[i],hidden)\n",
    "        \n",
    "    loss = criterion(output,gender_in_tensor)\n",
    "    loss.backward()\n",
    "    \n",
    "    for p in rnn.parameters():\n",
    "        p.data.add_(-learning_rate, p.grad.data)\n",
    "    \n",
    "    if iteration % 2000 == 0:\n",
    "        pred = output_to_gender(output)\n",
    "        correct ='✓' if pred == genders[gender] else 'X {%s}' % genders[gender]\n",
    "        print('iters- %d %d%% (%s) Name - %s Gender - %s %s' % \\\n",
    "             (iteration,iteration/iterations*100,loss.item(),name,pred,correct))\n"
   ]
  },
  {
   "cell_type": "code",
   "execution_count": 84,
   "metadata": {},
   "outputs": [],
   "source": [
    "#will generate confusion matrix\n",
    "n_confusion = 10000\n",
    "\n",
    "prediction = []\n",
    "actual = []\n",
    "\n",
    "for _ in range (n_confusion):\n",
    "    i = random.randint(0,len(names_data)-1)\n",
    "    \n",
    "    name = names_data.iloc[i][0]\n",
    "    name_in_tensor = name_to_tensor(name)\n",
    "    \n",
    "    gender_idx = names_data.iloc[i][1]\n",
    "    gender_in_tensor = torch.LongTensor([gender_idx])\n",
    "    \n",
    "    hidden = rnn.initHidden()\n",
    "    \n",
    "    for j in range(name_in_tensor.size()[0]):\n",
    "        output, hidden = rnn(name_in_tensor[j],hidden)\n",
    "    pred = output_to_gender(output)\n",
    "    \n",
    "    prediction.append(pred)\n",
    "    actual.append(genders[gender_idx])"
   ]
  },
  {
   "cell_type": "code",
   "execution_count": 94,
   "metadata": {},
   "outputs": [],
   "source": [
    "import numpy as np\n",
    "\n",
    "np_prediction =np.array(prediction)\n",
    "np_actual = np.array(actual)"
   ]
  },
  {
   "cell_type": "code",
   "execution_count": 97,
   "metadata": {},
   "outputs": [
    {
     "name": "stdout",
     "output_type": "stream",
     "text": [
      "Accuracy = 83.4200 %\n",
      "right values : 8342\n"
     ]
    }
   ],
   "source": [
    "T = 0\n",
    "total =0\n",
    "\n",
    "for x in range(len(np_prediction)):\n",
    "    if np_prediction[x] == np_actual[x]:\n",
    "        T += 1\n",
    "    total += 1\n",
    "\n",
    "print('Accuracy = %.4f %%'% ((T/total)*100 ) )\n",
    "print('right values : %d' % T)\n",
    "        "
   ]
  },
  {
   "cell_type": "code",
   "execution_count": null,
   "metadata": {},
   "outputs": [],
   "source": []
  }
 ],
 "metadata": {
  "kernelspec": {
   "display_name": "Python 3",
   "language": "python",
   "name": "python3"
  },
  "language_info": {
   "codemirror_mode": {
    "name": "ipython",
    "version": 3
   },
   "file_extension": ".py",
   "mimetype": "text/x-python",
   "name": "python",
   "nbconvert_exporter": "python",
   "pygments_lexer": "ipython3",
   "version": "3.8.5"
  }
 },
 "nbformat": 4,
 "nbformat_minor": 4
}
